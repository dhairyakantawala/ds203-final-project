{
 "cells": [
  {
   "cell_type": "code",
   "execution_count": 1,
   "metadata": {},
   "outputs": [],
   "source": [
    "import pandas as pd"
   ]
  },
  {
   "cell_type": "code",
   "execution_count": 2,
   "metadata": {},
   "outputs": [
    {
     "name": "stdout",
     "output_type": "stream",
     "text": [
      "Time in min: 1.94\n"
     ]
    }
   ],
   "source": [
    "def count_columns_time(file_path):\n",
    "    try:\n",
    "        df = pd.read_csv(file_path)\n",
    "        result = (df.shape[1])/(86*60)\n",
    "        return round(result, 2)\n",
    "    except Exception as e:\n",
    "        print(f\"An error occurred: {e}\")\n",
    "        return None\n",
    "\n",
    "file_link = 'data/17-MFCC.csv'\n",
    "num_columns = count_columns_time(file_link)\n",
    "print(f'Time in min: {num_columns}')"
   ]
  },
  {
   "cell_type": "code",
   "execution_count": 7,
   "metadata": {},
   "outputs": [
    {
     "name": "stdout",
     "output_type": "stream",
     "text": [
      "                    Filename  Column Count\n",
      "0                01-MFCC.csv          1.89\n",
      "1                02-MFCC.csv          1.79\n",
      "2                03-MFCC.csv          4.74\n",
      "3                04-MFCC.csv          3.70\n",
      "4                05-MFCC.csv          4.09\n",
      "..                       ...           ...\n",
      "112             113-MFCC.csv          5.47\n",
      "113             114-MFCC.csv          5.76\n",
      "114             115-MFCC.csv          4.99\n",
      "115             116-MFCC.csv          1.31\n",
      "116  jana-gana-mana-MFCC.csv          1.86\n",
      "\n",
      "[117 rows x 2 columns]\n"
     ]
    }
   ],
   "source": [
    "data = {\n",
    "    'Filename': [],\n",
    "    'Column Count': []\n",
    "}\n",
    "\n",
    "for i in range(1, 117):\n",
    "    filename = f\"{i:02d}-MFCC.csv\"\n",
    "    filepath = 'data/' + filename\n",
    "    column_count = count_columns_time(filepath)\n",
    "    \n",
    "    if column_count is not None:\n",
    "        data['Filename'].append(filename)\n",
    "        data['Column Count'].append(column_count)\n",
    "        \n",
    "filename = \"jana-gana-mana-MFCC.csv\"\n",
    "filepath = f'training_data/{filename}'\n",
    "column_count = count_columns_time(filepath)\n",
    "if column_count is not None:\n",
    "    data['Filename'].append(filename)\n",
    "    data['Column Count'].append(column_count)\n",
    "\n",
    "\n",
    "df = pd.DataFrame(data)\n",
    "\n",
    "print(df)\n"
   ]
  },
  {
   "cell_type": "code",
   "execution_count": 8,
   "metadata": {},
   "outputs": [],
   "source": [
    "df.to_csv('time_music.csv', index=False)"
   ]
  },
  {
   "cell_type": "code",
   "execution_count": null,
   "metadata": {},
   "outputs": [],
   "source": []
  }
 ],
 "metadata": {
  "kernelspec": {
   "display_name": "clean",
   "language": "python",
   "name": "python3"
  },
  "language_info": {
   "codemirror_mode": {
    "name": "ipython",
    "version": 3
   },
   "file_extension": ".py",
   "mimetype": "text/x-python",
   "name": "python",
   "nbconvert_exporter": "python",
   "pygments_lexer": "ipython3",
   "version": "3.12.4"
  }
 },
 "nbformat": 4,
 "nbformat_minor": 2
}
